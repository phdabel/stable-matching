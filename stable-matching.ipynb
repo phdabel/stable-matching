{
 "cells": [
  {
   "cell_type": "code",
   "execution_count": 21,
   "metadata": {},
   "outputs": [],
   "source": [
    "import random"
   ]
  },
  {
   "cell_type": "code",
   "execution_count": 22,
   "metadata": {},
   "outputs": [],
   "source": [
    "# homens e mulheres ('indice':situacao<False:solteiro;True:casado>)\n",
    "M_i = {'a':False,'b':False,'c':False,'d':False}\n",
    "W_i = {'1':False,'2':False,'3':False,'4':False}"
   ]
  },
  {
   "cell_type": "code",
   "execution_count": 23,
   "metadata": {},
   "outputs": [],
   "source": [
    "# matriz de preferencias das mulheres\n",
    "W_pref = dict()"
   ]
  },
  {
   "cell_type": "code",
   "execution_count": 24,
   "metadata": {},
   "outputs": [
    {
     "data": {
      "text/plain": [
       "{'1': ['a', 'd', 'b', 'c'],\n",
       " '2': ['b', 'd', 'c', 'a'],\n",
       " '3': ['a', 'd', 'b', 'c'],\n",
       " '4': ['d', 'b', 'c', 'a']}"
      ]
     },
     "execution_count": 24,
     "metadata": {},
     "output_type": "execute_result"
    }
   ],
   "source": [
    "for i in W_i.keys():\n",
    "    W_pref[i] = random.sample(list(M_i.keys()),k=4)\n",
    "W_pref"
   ]
  },
  {
   "cell_type": "code",
   "execution_count": 25,
   "metadata": {},
   "outputs": [],
   "source": [
    "# matriz de preferencias dos homens\n",
    "M_pref = dict()"
   ]
  },
  {
   "cell_type": "code",
   "execution_count": 26,
   "metadata": {},
   "outputs": [
    {
     "data": {
      "text/plain": [
       "{'a': ['4', '1', '3', '2'],\n",
       " 'b': ['4', '1', '3', '2'],\n",
       " 'c': ['2', '1', '4', '3'],\n",
       " 'd': ['4', '2', '1', '3']}"
      ]
     },
     "execution_count": 26,
     "metadata": {},
     "output_type": "execute_result"
    }
   ],
   "source": [
    "for i in M_i.keys():\n",
    "    M_pref[i] = random.sample(list(W_i.keys()),k=4)\n",
    "M_pref"
   ]
  },
  {
   "cell_type": "code",
   "execution_count": 27,
   "metadata": {},
   "outputs": [],
   "source": [
    "S = dict()"
   ]
  },
  {
   "cell_type": "code",
   "execution_count": 28,
   "metadata": {},
   "outputs": [],
   "source": [
    "while not all([M_i[m] for m in M_i.keys()]):\n",
    "    for m in M_i.keys():\n",
    "        w = M_pref[m].pop()\n",
    "        if not W_i[w]:\n",
    "            S[w] = m\n",
    "            W_i[w] = True\n",
    "            M_i[m] = True\n",
    "        elif not (W_pref[w].index(S[w]) < W_pref[w].index(m)):\n",
    "            M_i[S[w]] = False\n",
    "            S[w] = m\n",
    "            W_i[w] = True\n",
    "            M_i[m] = True"
   ]
  },
  {
   "cell_type": "code",
   "execution_count": 29,
   "metadata": {},
   "outputs": [
    {
     "name": "stdout",
     "output_type": "stream",
     "text": [
      "{'2': 'b', '3': 'a', '4': 'c', '1': 'd'}\n"
     ]
    }
   ],
   "source": [
    "print(S)"
   ]
  },
  {
   "cell_type": "code",
   "execution_count": null,
   "metadata": {},
   "outputs": [],
   "source": []
  }
 ],
 "metadata": {
  "kernelspec": {
   "display_name": "Python 3",
   "language": "python",
   "name": "python3"
  },
  "language_info": {
   "codemirror_mode": {
    "name": "ipython",
    "version": 3
   },
   "file_extension": ".py",
   "mimetype": "text/x-python",
   "name": "python",
   "nbconvert_exporter": "python",
   "pygments_lexer": "ipython3",
   "version": "3.7.5"
  }
 },
 "nbformat": 4,
 "nbformat_minor": 2
}
